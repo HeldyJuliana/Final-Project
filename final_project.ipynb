{
 "cells": [
  {
   "cell_type": "code",
   "execution_count": 1,
   "metadata": {},
   "outputs": [
    {
     "name": "stdout",
     "output_type": "stream",
     "text": [
      "Type your password and press enter: A987654321!\n"
     ]
    }
   ],
   "source": [
    "#sending to one specific email\n",
    "\n",
    "import smtplib, ssl\n",
    "\n",
    "port = 465  # For SSL\n",
    "smtp_server = \"smtp.gmail.com\"\n",
    "sender_email = \"pythonfortesting1@gmail.com\"  # Enter your address\n",
    "receiver_email = \"heldyjuli@gmail.com\"  # Enter receiver address\n",
    "password = input(\"Type your password and press enter: \")\n",
    "message = \"\"\"\\\n",
    "Subject: Hi there\n",
    "\n",
    "This message is sent from Python.\"\"\"\n",
    "\n",
    "context = ssl.create_default_context()\n",
    "with smtplib.SMTP_SSL(smtp_server, port, context=context) as server:\n",
    "    server.login(sender_email, password)\n",
    "    server.sendmail(sender_email, receiver_email, message)"
   ]
  },
  {
   "cell_type": "code",
   "execution_count": 5,
   "metadata": {},
   "outputs": [
    {
     "name": "stdout",
     "output_type": "stream",
     "text": [
      "['heldyjuli@gmail.com', 'heldyjuliana@yahoo.com']\n",
      "Type your password and press enter: A987654321!\n"
     ]
    }
   ],
   "source": [
    "#sending to list of emails\n",
    "\n",
    "mails = open('receiver_list.txt','r+')\n",
    "#mailList = mails.read()\n",
    "#mailList = [i.strip() for i in mails.readlines()] \n",
    "directory = \"cd/Users/SESA440895/basic-pyhton\"\n",
    "\n",
    "#Source: https://stackoverflow.com/questions/22120330/send-email-to-recipient-from-txt-in-python-3-3\n",
    "\n",
    "import smtplib, ssl\n",
    "\n",
    "port = 465  # For SSL\n",
    "smtp_server = \"smtp.gmail.com\"\n",
    "sender_email = \"pythonfortesting1@gmail.com\"  # Enter your address\n",
    "receiver_email = [i.strip() for i in mails.readlines()] \n",
    "print(receiver_email) # Enter receiver address\n",
    "password = input(\"Type your password and press enter: \")\n",
    "message = \"\"\"\\\n",
    "Subject: Hi there\n",
    "\n",
    "This message is sent from Python.\"\"\"\n",
    "\n",
    "context = ssl.create_default_context()\n",
    "with smtplib.SMTP_SSL(smtp_server, port, context=context) as server:\n",
    "    server.login(sender_email, password)\n",
    "    server.sendmail(sender_email, receiver_email, message)\n",
    "    \n",
    "#Source: https://realpython.com/python-send-email/"
   ]
  },
  {
   "cell_type": "code",
   "execution_count": null,
   "metadata": {},
   "outputs": [],
   "source": []
  },
  {
   "cell_type": "code",
   "execution_count": null,
   "metadata": {},
   "outputs": [],
   "source": []
  }
 ],
 "metadata": {
  "kernelspec": {
   "display_name": "Python 3",
   "language": "python",
   "name": "python3"
  },
  "language_info": {
   "codemirror_mode": {
    "name": "ipython",
    "version": 3
   },
   "file_extension": ".py",
   "mimetype": "text/x-python",
   "name": "python",
   "nbconvert_exporter": "python",
   "pygments_lexer": "ipython3",
   "version": "3.7.4"
  }
 },
 "nbformat": 4,
 "nbformat_minor": 2
}
